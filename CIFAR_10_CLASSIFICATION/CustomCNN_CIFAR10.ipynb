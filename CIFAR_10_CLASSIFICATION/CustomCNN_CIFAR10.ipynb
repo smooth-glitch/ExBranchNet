{
 "cells": [
  {
   "cell_type": "markdown",
   "id": "f47f0a52-c8a8-46e4-b044-33b8691736f7",
   "metadata": {},
   "source": [
    "# CustomCNN for CIFAR-10\n",
    "\n",
    "This notebook implements a custom convolutional neural network using PyTorch. The network is built with a custom module called `ExpertBlock` that implements an expert branch (using fully connected layers and softmax) and multiple convolution branches. These blocks are stacked in the `Backbone`, and the final feature maps are fed through the `Classifier` head.\n",
    "\n",
    "The notebook also includes training and evaluation functions for the CIFAR-10 dataset and plots training curves (loss and accuracy) at the end."
   ]
  },
  {
   "cell_type": "code",
   "execution_count": null,
   "id": "8d3a5e1a-6a7f-4de6-9c99-72ac72ea6e60",
   "metadata": {},
   "outputs": [
    {
     "name": "stdout",
     "output_type": "stream",
     "text": [
      "Training on cuda\n"
     ]
    }
   ],
   "source": [
    "import torch\n",
    "import torch.nn as nn\n",
    "import torch.optim as optim\n",
    "from torch.utils.data import DataLoader\n",
    "import torchvision\n",
    "import torchvision.transforms as transforms\n",
    "from tqdm import tqdm  # For progress bars\n",
    "\n",
    "# For plotting later\n",
    "import matplotlib.pyplot as plt\n",
    "\n",
    "# Checking for GPU availability\n",
    "device = torch.device('cuda' if torch.cuda.is_available() else 'cpu')\n",
    "print(f\"Training on {device}\")"
   ]
  },
  {
   "cell_type": "markdown",
   "id": "092f8b15-2e96-434d-b4e0-7e2148d2f3f2",
   "metadata": {},
   "source": [
    "## ExpertBlock\n",
    "\n",
    "The `ExpertBlock` consists of two main parts:\n",
    "\n",
    "1. **Expert Branch:** This branch uses global average pooling and two fully connected layers (with a reduction factor) to compute a weight vector `a = [a1, ..., aK]` using softmax.\n",
    "2. **Convolution Branch:** Contains `K` parallel convolutional layers (each with batch normalization and ReLU) whose outputs are weighted by the corresponding element in `a` and summed.\n",
    "\n",
    "Finally, dropout is applied to the combined output."
   ]
  },
  {
   "cell_type": "code",
   "execution_count": null,
   "id": "f81f37a1-6c7b-4e3d-b2f8-8045a8e3878a",
   "metadata": {},
   "outputs": [],
   "source": [
    "class ExpertBlock(nn.Module):\n",
    "    \"\"\"\n",
    "    A single block in the backbone consisting of an expert branch and a convolution branch.\n",
    "    \"\"\"\n",
    "    def __init__(self, in_channels, out_channels, K, r=2, dropout_prob=0.3):\n",
    "        super(ExpertBlock, self).__init__()\n",
    "        self.K = K\n",
    "        self.dropout = nn.Dropout(dropout_prob)\n",
    "        \n",
    "        # Expert branch: generates weights vector using global average pooling and FC layers\n",
    "        self.avg_pool = nn.AdaptiveAvgPool2d(1)\n",
    "        self.fc1 = nn.Linear(in_channels, in_channels // r)   # reducing channel dimension\n",
    "        self.fc2 = nn.Linear(in_channels // r, K)              # projecting to K elements\n",
    "        \n",
    "        # Convolution branch: K parallel convolutional layers\n",
    "        self.conv_layers = nn.ModuleList([\n",
    "            nn.Conv2d(in_channels, out_channels, kernel_size=3, padding=1)\n",
    "            for _ in range(K)\n",
    "        ])\n",
    "        self.batch_norms = nn.ModuleList([\n",
    "            nn.BatchNorm2d(out_channels) for _ in range(K)\n",
    "        ])\n",
    "        \n",
    "    def forward(self, x):\n",
    "        # Expert Branch\n",
    "        pooled = self.avg_pool(x)              # shape: (B, in_channels, 1, 1)\n",
    "        pooled = torch.flatten(pooled, 1)      # shape: (B, in_channels)\n",
    "        reduced = self.fc1(pooled)             # shape: (B, in_channels//r)\n",
    "        activated = torch.relu(reduced)\n",
    "        expert_logits = self.fc2(activated)    # shape: (B, K)\n",
    "        a = torch.softmax(expert_logits, dim=1)  # weight vector\n",
    "        \n",
    "        # Convolution Branch\n",
    "        conv_outputs = []\n",
    "        for conv, bn in zip(self.conv_layers, self.batch_norms):\n",
    "            out = conv(x)\n",
    "            out = bn(out)\n",
    "            out = torch.relu(out)\n",
    "            conv_outputs.append(out)\n",
    "        \n",
    "        # Combining outputs using the expert weights: sum(a[i]*conv_output[i])\n",
    "        combined_output = 0\n",
    "        for i in range(self.K):\n",
    "            weight = a[:, i].view(-1, 1, 1, 1)  # reshaping for broadcast\n",
    "            combined_output = combined_output + weight * conv_outputs[i]\n",
    "        \n",
    "        # Apply dropout\n",
    "        combined_output = self.dropout(combined_output)\n",
    "        return combined_output"
   ]
  },
  {
   "cell_type": "markdown",
   "id": "b1a8b9ed-1c49-44cd-abe7-2a0d2487ac41",
   "metadata": {},
   "source": [
    "## Backbone\n",
    "\n",
    "The `Backbone` stacks multiple `ExpertBlock` modules. The number of blocks and their output channel dimensions are configurable. This module serves as the feature extractor."
   ]
  },
  {
   "cell_type": "code",
   "execution_count": 3,
   "id": "ed8ed482-9a15-471e-a847-4b9c5c8374f0",
   "metadata": {},
   "outputs": [],
   "source": [
    "class Backbone(nn.Module):\n",
    "    \"\"\"\n",
    "    Backbone composed of N ExpertBlocks.\n",
    "    \"\"\"\n",
    "    def __init__(self, num_blocks, in_channels, block_channels, K, r, dropout_prob=0.3):\n",
    "        super(Backbone, self).__init__()\n",
    "        layers = []\n",
    "        current_channels = in_channels\n",
    "        for out_channels in block_channels:\n",
    "            layers.append(ExpertBlock(current_channels, out_channels, K, r, dropout_prob))\n",
    "            current_channels = out_channels\n",
    "        self.blocks = nn.ModuleList(layers)\n",
    "        \n",
    "    def forward(self, x):\n",
    "        for block in self.blocks:\n",
    "            x = block(x)\n",
    "        return x"
   ]
  },
  {
   "cell_type": "markdown",
   "id": "f790985e-e3d1-4d53-8b3a-517cc8ab9d8e",
   "metadata": {},
   "source": [
    "## Classifier\n",
    "\n",
    "The `Classifier` takes the feature maps produced by the backbone and applies an adaptive average pooling followed by a fully connected layer to produce the final class scores."
   ]
  },
  {
   "cell_type": "code",
   "execution_count": 4,
   "id": "f073e7a8-78d6-4b95-b74d-7d1bff9204bd",
   "metadata": {},
   "outputs": [],
   "source": [
    "class Classifier(nn.Module):\n",
    "    \"\"\"\n",
    "    Classification head that applies adaptive average pooling and a final linear layer.\n",
    "    \"\"\"\n",
    "    def __init__(self, in_channels, num_classes):\n",
    "        super(Classifier, self).__init__()\n",
    "        self.avg_pool = nn.AdaptiveAvgPool2d(1)\n",
    "        self.fc = nn.Linear(in_channels, num_classes)\n",
    "        \n",
    "    def forward(self, x):\n",
    "        x = self.avg_pool(x)\n",
    "        x = torch.flatten(x, 1)\n",
    "        x = self.fc(x)\n",
    "        return x"
   ]
  },
  {
   "cell_type": "markdown",
   "id": "ea38e01b-b237-4843-b4f2-865339af476b",
   "metadata": {},
   "source": [
    "## CustomCNN\n",
    "\n",
    "The `CustomCNN` model combines all the previous components:\n",
    "\n",
    " - **Stem:** An initial convolutional layer that converts the 3-channel input into a higher dimensional representation.\n",
    " - **Backbone:** A series of `ExpertBlock` modules to extract complex features.\n",
    " - **Classifier:** A final classification head that outputs the class predictions for CIFAR-10."
   ]
  },
  {
   "cell_type": "code",
   "execution_count": null,
   "id": "e60cda2a-02b9-4da1-baa2-3dd0d94d5c88",
   "metadata": {},
   "outputs": [],
   "source": [
    "class CustomCNN(nn.Module):\n",
    "    \"\"\"\n",
    "    Complete network with a stem, backbone (ExpertBlocks), and classifier.\n",
    "    \"\"\"\n",
    "    def __init__(self, num_blocks=3, K=2, r=2, dropout_prob=0.2, num_classes=10):\n",
    "        super(CustomCNN, self).__init__()\n",
    "        # Stem: initial convolutional layer\n",
    "        self.stem = nn.Sequential(\n",
    "            nn.Conv2d(3, 32, kernel_size=3, stride=1, padding=1),\n",
    "            nn.BatchNorm2d(32),\n",
    "            nn.ReLU()\n",
    "        )\n",
    "        \n",
    "        # Defining output channels for each ExpertBlock\n",
    "        if num_blocks == 3:\n",
    "            block_channels = [64, 128, 256]\n",
    "        else:\n",
    "            block_channels = [32 * (2 ** i) for i in range(1, num_blocks + 1)]\n",
    "        \n",
    "        # Backbone composed of ExpertBlocks\n",
    "        self.backbone = Backbone(num_blocks, in_channels=32, block_channels=block_channels,\n",
    "                                 K=K, r=r, dropout_prob=dropout_prob)\n",
    "        # Classifier head\n",
    "        self.classifier = Classifier(in_channels=block_channels[-1], num_classes=num_classes)\n",
    "        \n",
    "    def forward(self, x):\n",
    "        x = self.stem(x)        # initial feature extraction\n",
    "        x = self.backbone(x)    # backbone processing\n",
    "        x = self.classifier(x)  # final classification\n",
    "        return x"
   ]
  },
  {
   "cell_type": "markdown",
   "id": "72b23572-7ae7-41b5-8aa2-63a9a6d93e7b",
   "metadata": {},
   "source": [
    "## Training and Evaluation Functions\n",
    "\n",
    "The following functions implement the training and evaluation loops:\n",
    "\n",
    " - **train:** Sets the model to training mode, iterates over the training dataset with a progress bar, computes the loss, backpropagates, and updates the weights.\n",
    " - **evaluate:** Sets the model to evaluation mode, computes the loss on the test dataset, and calculates accuracy."
   ]
  },
  {
   "cell_type": "code",
   "execution_count": 6,
   "id": "8f7c7375-f90e-4d40-b974-74b5dc0e2a97",
   "metadata": {},
   "outputs": [],
   "source": [
    "def train(model, train_loader, criterion, optimizer, device):\n",
    "    model.train()\n",
    "    running_loss = 0.0\n",
    "    \n",
    "    for images, labels in tqdm(train_loader, desc=\"Training\", leave=False):\n",
    "        images, labels = images.to(device), labels.to(device)\n",
    "        optimizer.zero_grad()\n",
    "        outputs = model(images)\n",
    "        loss = criterion(outputs, labels)\n",
    "        loss.backward()\n",
    "        optimizer.step()\n",
    "        running_loss += loss.item() * images.size(0)\n",
    "    \n",
    "    epoch_loss = running_loss / len(train_loader.dataset)\n",
    "    return epoch_loss\n",
    "\n",
    "\n",
    "def evaluate(model, test_loader, criterion, device):\n",
    "    model.eval()\n",
    "    running_loss = 0.0\n",
    "    correct = 0\n",
    "    total = 0\n",
    "    \n",
    "    with torch.no_grad():\n",
    "        for images, labels in tqdm(test_loader, desc=\"Evaluating\", leave=False):\n",
    "            images, labels = images.to(device), labels.to(device)\n",
    "            outputs = model(images)\n",
    "            loss = criterion(outputs, labels)\n",
    "            running_loss += loss.item() * images.size(0)\n",
    "            _, predicted = torch.max(outputs.data, 1)\n",
    "            total += labels.size(0)\n",
    "            correct += (predicted == labels).sum().item()\n",
    "    \n",
    "    epoch_loss = running_loss / len(test_loader.dataset)\n",
    "    accuracy = 100 * correct / total\n",
    "    return epoch_loss, accuracy"
   ]
  },
  {
   "cell_type": "markdown",
   "id": "c42a9437-4952-4c14-b8aa-311fa7a7d20c",
   "metadata": {},
   "source": [
    "## Main Execution: Data Loading, Training, and Evaluation\n",
    "\n",
    "This cell handles:\n",
    "\n",
    " - Loading the CIFAR-10 dataset and defining data transformations\n",
    " - Initializing the model, loss function, optimizer, and a learning rate scheduler\n",
    " - Running the training loop over a specified number of epochs while recording metrics\n",
    " - Saving the trained model\n",
    "\n",
    "The metrics (training loss, test loss, and test accuracy) are stored for plotting later."
   ]
  },
  {
   "cell_type": "code",
   "execution_count": null,
   "id": "e3f72561-f45c-4a19-8263-982612189b1b",
   "metadata": {},
   "outputs": [
    {
     "name": "stdout",
     "output_type": "stream",
     "text": [
      "Files already downloaded and verified\n",
      "Files already downloaded and verified\n",
      "Epoch 1/15\n"
     ]
    },
    {
     "name": "stderr",
     "output_type": "stream",
     "text": [
      "                                                           \r"
     ]
    },
    {
     "name": "stdout",
     "output_type": "stream",
     "text": [
      "Train Loss: 1.5065 | Test Loss: 1.3562 | Test Accuracy: 50.22%\n",
      "Epoch 2/15\n"
     ]
    },
    {
     "name": "stderr",
     "output_type": "stream",
     "text": [
      "                                                           \r"
     ]
    },
    {
     "name": "stdout",
     "output_type": "stream",
     "text": [
      "Train Loss: 1.1930 | Test Loss: 1.3021 | Test Accuracy: 55.62%\n",
      "Epoch 3/15\n"
     ]
    },
    {
     "name": "stderr",
     "output_type": "stream",
     "text": [
      "                                                           \r"
     ]
    },
    {
     "name": "stdout",
     "output_type": "stream",
     "text": [
      "Train Loss: 1.0717 | Test Loss: 1.2252 | Test Accuracy: 56.48%\n",
      "Epoch 4/15\n"
     ]
    },
    {
     "name": "stderr",
     "output_type": "stream",
     "text": [
      "                                                           \r"
     ]
    },
    {
     "name": "stdout",
     "output_type": "stream",
     "text": [
      "Train Loss: 0.9965 | Test Loss: 1.1877 | Test Accuracy: 59.60%\n",
      "Epoch 5/15\n"
     ]
    },
    {
     "name": "stderr",
     "output_type": "stream",
     "text": [
      "                                                           \r"
     ]
    },
    {
     "name": "stdout",
     "output_type": "stream",
     "text": [
      "Train Loss: 0.9328 | Test Loss: 1.0119 | Test Accuracy: 64.97%\n",
      "Epoch 6/15\n"
     ]
    },
    {
     "name": "stderr",
     "output_type": "stream",
     "text": [
      "                                                           \r"
     ]
    },
    {
     "name": "stdout",
     "output_type": "stream",
     "text": [
      "Train Loss: 0.8192 | Test Loss: 0.8320 | Test Accuracy: 70.99%\n",
      "Epoch 7/15\n"
     ]
    },
    {
     "name": "stderr",
     "output_type": "stream",
     "text": [
      "                                                           \r"
     ]
    },
    {
     "name": "stdout",
     "output_type": "stream",
     "text": [
      "Train Loss: 0.7960 | Test Loss: 0.8391 | Test Accuracy: 70.55%\n",
      "Epoch 8/15\n"
     ]
    },
    {
     "name": "stderr",
     "output_type": "stream",
     "text": [
      "                                                           \r"
     ]
    },
    {
     "name": "stdout",
     "output_type": "stream",
     "text": [
      "Train Loss: 0.7827 | Test Loss: 0.8459 | Test Accuracy: 70.36%\n",
      "Epoch 9/15\n"
     ]
    },
    {
     "name": "stderr",
     "output_type": "stream",
     "text": [
      "                                                           \r"
     ]
    },
    {
     "name": "stdout",
     "output_type": "stream",
     "text": [
      "Train Loss: 0.7739 | Test Loss: 0.8069 | Test Accuracy: 71.96%\n",
      "Epoch 10/15\n"
     ]
    },
    {
     "name": "stderr",
     "output_type": "stream",
     "text": [
      "                                                           \r"
     ]
    },
    {
     "name": "stdout",
     "output_type": "stream",
     "text": [
      "Train Loss: 0.7672 | Test Loss: 0.8279 | Test Accuracy: 71.33%\n",
      "Epoch 11/15\n"
     ]
    },
    {
     "name": "stderr",
     "output_type": "stream",
     "text": [
      "                                                           \r"
     ]
    },
    {
     "name": "stdout",
     "output_type": "stream",
     "text": [
      "Train Loss: 0.7464 | Test Loss: 0.7759 | Test Accuracy: 72.99%\n",
      "Epoch 12/15\n"
     ]
    },
    {
     "name": "stderr",
     "output_type": "stream",
     "text": [
      "                                                           \r"
     ]
    },
    {
     "name": "stdout",
     "output_type": "stream",
     "text": [
      "Train Loss: 0.7451 | Test Loss: 0.7724 | Test Accuracy: 72.92%\n",
      "Epoch 13/15\n"
     ]
    },
    {
     "name": "stderr",
     "output_type": "stream",
     "text": [
      "                                                           \r"
     ]
    },
    {
     "name": "stdout",
     "output_type": "stream",
     "text": [
      "Train Loss: 0.7427 | Test Loss: 0.7771 | Test Accuracy: 73.23%\n",
      "Epoch 14/15\n"
     ]
    },
    {
     "name": "stderr",
     "output_type": "stream",
     "text": [
      "                                                           \r"
     ]
    },
    {
     "name": "stdout",
     "output_type": "stream",
     "text": [
      "Train Loss: 0.7398 | Test Loss: 0.7710 | Test Accuracy: 73.24%\n",
      "Epoch 15/15\n"
     ]
    },
    {
     "name": "stderr",
     "output_type": "stream",
     "text": [
      "                                                           "
     ]
    },
    {
     "name": "stdout",
     "output_type": "stream",
     "text": [
      "Train Loss: 0.7411 | Test Loss: 0.7662 | Test Accuracy: 73.33%\n",
      "Model saved as cifar10_customcnn.pth\n"
     ]
    },
    {
     "name": "stderr",
     "output_type": "stream",
     "text": [
      "\r"
     ]
    }
   ],
   "source": [
    "def main():\n",
    "    # Hyperparameters\n",
    "    num_epochs = 15\n",
    "    batch_size = 128\n",
    "    learning_rate = 0.001\n",
    "    \n",
    "    # data transformations\n",
    "    transform_train = transforms.Compose([\n",
    "        transforms.RandomCrop(32, padding=4),\n",
    "        transforms.RandomHorizontalFlip(),\n",
    "        transforms.ToTensor(),\n",
    "        transforms.Normalize((0.4914, 0.4822, 0.4465), \n",
    "                             (0.2023, 0.1994, 0.2010)),\n",
    "    ])\n",
    "    \n",
    "    transform_test = transforms.Compose([\n",
    "        transforms.ToTensor(),\n",
    "        transforms.Normalize((0.4914, 0.4822, 0.4465), \n",
    "                             (0.2023, 0.1994, 0.2010)),\n",
    "    ])\n",
    "    \n",
    "    # Loading the dataset\n",
    "    train_dataset = torchvision.datasets.CIFAR10(root='./data', train=True,\n",
    "                                                 download=True, transform=transform_train)\n",
    "    test_dataset = torchvision.datasets.CIFAR10(root='./data', train=False,\n",
    "                                                download=True, transform=transform_test)\n",
    "    \n",
    "    train_loader = DataLoader(train_dataset, batch_size=batch_size, shuffle=True, num_workers=2)\n",
    "    test_loader = DataLoader(test_dataset, batch_size=batch_size, shuffle=False, num_workers=2)\n",
    "    \n",
    "    # Initializing model, loss function, and optimizer\n",
    "    model = CustomCNN(num_blocks=3, K=2, r=2, dropout_prob=0.2, num_classes=10).to(device)\n",
    "    criterion = nn.CrossEntropyLoss()\n",
    "    optimizer = optim.Adam(model.parameters(), lr=learning_rate)\n",
    "    \n",
    "    # Learning Rate Scheduler\n",
    "    scheduler = optim.lr_scheduler.StepLR(optimizer, step_size=5, gamma=0.1)\n",
    "    \n",
    "    # Lists to record training metrics\n",
    "    train_loss_history = []\n",
    "    test_loss_history = []\n",
    "    test_accuracy_history = []\n",
    "    \n",
    "    # Training loop\n",
    "    for epoch in range(num_epochs):\n",
    "        print(f\"Epoch {epoch+1}/{num_epochs}\")\n",
    "        train_loss = train(model, train_loader, criterion, optimizer, device)\n",
    "        test_loss, test_accuracy = evaluate(model, test_loader, criterion, device)\n",
    "        print(f\"Train Loss: {train_loss:.4f} | Test Loss: {test_loss:.4f} | Test Accuracy: {test_accuracy:.2f}%\")\n",
    "        scheduler.step()  # Update learning rate\n",
    "        \n",
    "        train_loss_history.append(train_loss)\n",
    "        test_loss_history.append(test_loss)\n",
    "        test_accuracy_history.append(test_accuracy)\n",
    "    \n",
    "    # Saving the trained model\n",
    "    torch.save(model.state_dict(), \"cifar10_customcnn.pth\")\n",
    "    print(\"Model saved as cifar10_customcnn.pth\")\n",
    "    \n",
    "    return train_loss_history, test_loss_history, test_accuracy_history\n",
    "\n",
    "\n",
    "if __name__ == \"__main__\":\n",
    "    metrics = main()"
   ]
  },
  {
   "cell_type": "markdown",
   "id": "c729b2c7-0f95-4a20-bcb2-95b93e996e7a",
   "metadata": {},
   "source": [
    "## Plotting the Training Metrics\n",
    "\n",
    "The following cell plots the training loss, test loss, and test accuracy over the epochs."
   ]
  },
  {
   "cell_type": "code",
   "execution_count": null,
   "id": "db8dc8ac",
   "metadata": {},
   "outputs": [
    {
     "data": {
      "image/png": "[encoded data removed]",
      "text/plain": [
       "<Figure size 1000x500 with 1 Axes>"
      ]
     },
     "metadata": {},
     "output_type": "display_data"
    },
    {
     "data": {
      "image/png": "[encoded data removed]",
      "text/plain": [
       "<Figure size 1000x500 with 1 Axes>"
      ]
     },
     "metadata": {},
     "output_type": "display_data"
    }
   ],
   "source": [
    "import matplotlib.pyplot as plt\n",
    "\n",
    "# Unpacking the recorded metrics\n",
    "train_loss_history, test_loss_history, test_accuracy_history = metrics\n",
    "epochs = range(1, len(train_loss_history) + 1)\n",
    "\n",
    "# Plotting Training and Test Loss\n",
    "plt.figure(figsize=(10, 5))\n",
    "plt.plot(epochs, train_loss_history, label='Train Loss')\n",
    "plt.plot(epochs, test_loss_history, label='Test Loss')\n",
    "plt.xlabel('Epochs')\n",
    "plt.ylabel('Loss')\n",
    "plt.title('Training and Test Loss')\n",
    "plt.legend()\n",
    "plt.grid(True)\n",
    "plt.show()\n",
    "\n",
    "# Plotting Test Accuracy\n",
    "plt.figure(figsize=(10, 5))\n",
    "plt.plot(epochs, test_accuracy_history, label='Test Accuracy', marker='o')\n",
    "plt.xlabel('Epochs')\n",
    "plt.ylabel('Accuracy (%)')\n",
    "plt.title('Test Accuracy over Epochs')\n",
    "plt.legend()\n",
    "plt.grid(True)\n",
    "plt.show()\n"
   ]
  }
 ],
 "metadata": {
  "kernelspec": {
   "display_name": "Python 3",
   "language": "python",
   "name": "python3"
  },
  "language_info": {
   "codemirror_mode": {
    "name": "ipython",
    "version": 3
   },
   "file_extension": ".py",
   "mimetype": "text/x-python",
   "name": "python",
   "nbconvert_exporter": "python",
   "pygments_lexer": "ipython3",
   "version": "3.12.10"
  }
 },
 "nbformat": 4,
 "nbformat_minor": 5
}
